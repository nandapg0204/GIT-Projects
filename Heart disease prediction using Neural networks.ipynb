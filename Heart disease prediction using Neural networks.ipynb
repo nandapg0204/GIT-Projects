{
 "cells": [
  {
   "cell_type": "code",
   "execution_count": 1,
   "id": "286b155b",
   "metadata": {},
   "outputs": [],
   "source": [
    "import pandas as pd\n",
    "import numpy as np\n",
    "import tensorflow as tf\n",
    "import matplotlib.pyplot as plt\n",
    "import sklearn"
   ]
  },
  {
   "cell_type": "code",
   "execution_count": 12,
   "id": "6023f437",
   "metadata": {},
   "outputs": [
    {
     "name": "stdout",
     "output_type": "stream",
     "text": [
      "C:\\Users\\nanda\\GIT Projects\n"
     ]
    }
   ],
   "source": [
    "import os\n",
    "\n",
    "current_directory = os.getcwd()\n",
    "\n",
    "print(current_directory)"
   ]
  },
  {
   "cell_type": "code",
   "execution_count": 9,
   "id": "9774aa3e",
   "metadata": {},
   "outputs": [],
   "source": [
    "df = pd.read_csv(\"healthcare-dataset-stroke-data.csv\")"
   ]
  },
  {
   "cell_type": "code",
   "execution_count": 14,
   "id": "f02eb4de",
   "metadata": {},
   "outputs": [
    {
     "data": {
      "text/html": [
       "<div>\n",
       "<style scoped>\n",
       "    .dataframe tbody tr th:only-of-type {\n",
       "        vertical-align: middle;\n",
       "    }\n",
       "\n",
       "    .dataframe tbody tr th {\n",
       "        vertical-align: top;\n",
       "    }\n",
       "\n",
       "    .dataframe thead th {\n",
       "        text-align: right;\n",
       "    }\n",
       "</style>\n",
       "<table border=\"1\" class=\"dataframe\">\n",
       "  <thead>\n",
       "    <tr style=\"text-align: right;\">\n",
       "      <th></th>\n",
       "      <th>id</th>\n",
       "      <th>gender</th>\n",
       "      <th>age</th>\n",
       "      <th>hypertension</th>\n",
       "      <th>heart_disease</th>\n",
       "      <th>ever_married</th>\n",
       "      <th>work_type</th>\n",
       "      <th>Residence_type</th>\n",
       "      <th>avg_glucose_level</th>\n",
       "      <th>bmi</th>\n",
       "      <th>smoking_status</th>\n",
       "      <th>stroke</th>\n",
       "    </tr>\n",
       "  </thead>\n",
       "  <tbody>\n",
       "    <tr>\n",
       "      <th>0</th>\n",
       "      <td>9046</td>\n",
       "      <td>Male</td>\n",
       "      <td>67.0</td>\n",
       "      <td>0</td>\n",
       "      <td>1</td>\n",
       "      <td>Yes</td>\n",
       "      <td>Private</td>\n",
       "      <td>Urban</td>\n",
       "      <td>228.69</td>\n",
       "      <td>36.6</td>\n",
       "      <td>formerly smoked</td>\n",
       "      <td>1</td>\n",
       "    </tr>\n",
       "    <tr>\n",
       "      <th>1</th>\n",
       "      <td>51676</td>\n",
       "      <td>Female</td>\n",
       "      <td>61.0</td>\n",
       "      <td>0</td>\n",
       "      <td>0</td>\n",
       "      <td>Yes</td>\n",
       "      <td>Self-employed</td>\n",
       "      <td>Rural</td>\n",
       "      <td>202.21</td>\n",
       "      <td>NaN</td>\n",
       "      <td>never smoked</td>\n",
       "      <td>1</td>\n",
       "    </tr>\n",
       "    <tr>\n",
       "      <th>2</th>\n",
       "      <td>31112</td>\n",
       "      <td>Male</td>\n",
       "      <td>80.0</td>\n",
       "      <td>0</td>\n",
       "      <td>1</td>\n",
       "      <td>Yes</td>\n",
       "      <td>Private</td>\n",
       "      <td>Rural</td>\n",
       "      <td>105.92</td>\n",
       "      <td>32.5</td>\n",
       "      <td>never smoked</td>\n",
       "      <td>1</td>\n",
       "    </tr>\n",
       "    <tr>\n",
       "      <th>3</th>\n",
       "      <td>60182</td>\n",
       "      <td>Female</td>\n",
       "      <td>49.0</td>\n",
       "      <td>0</td>\n",
       "      <td>0</td>\n",
       "      <td>Yes</td>\n",
       "      <td>Private</td>\n",
       "      <td>Urban</td>\n",
       "      <td>171.23</td>\n",
       "      <td>34.4</td>\n",
       "      <td>smokes</td>\n",
       "      <td>1</td>\n",
       "    </tr>\n",
       "    <tr>\n",
       "      <th>4</th>\n",
       "      <td>1665</td>\n",
       "      <td>Female</td>\n",
       "      <td>79.0</td>\n",
       "      <td>1</td>\n",
       "      <td>0</td>\n",
       "      <td>Yes</td>\n",
       "      <td>Self-employed</td>\n",
       "      <td>Rural</td>\n",
       "      <td>174.12</td>\n",
       "      <td>24.0</td>\n",
       "      <td>never smoked</td>\n",
       "      <td>1</td>\n",
       "    </tr>\n",
       "  </tbody>\n",
       "</table>\n",
       "</div>"
      ],
      "text/plain": [
       "      id  gender   age  hypertension  heart_disease ever_married  \\\n",
       "0   9046    Male  67.0             0              1          Yes   \n",
       "1  51676  Female  61.0             0              0          Yes   \n",
       "2  31112    Male  80.0             0              1          Yes   \n",
       "3  60182  Female  49.0             0              0          Yes   \n",
       "4   1665  Female  79.0             1              0          Yes   \n",
       "\n",
       "       work_type Residence_type  avg_glucose_level   bmi   smoking_status  \\\n",
       "0        Private          Urban             228.69  36.6  formerly smoked   \n",
       "1  Self-employed          Rural             202.21   NaN     never smoked   \n",
       "2        Private          Rural             105.92  32.5     never smoked   \n",
       "3        Private          Urban             171.23  34.4           smokes   \n",
       "4  Self-employed          Rural             174.12  24.0     never smoked   \n",
       "\n",
       "   stroke  \n",
       "0       1  \n",
       "1       1  \n",
       "2       1  \n",
       "3       1  \n",
       "4       1  "
      ]
     },
     "execution_count": 14,
     "metadata": {},
     "output_type": "execute_result"
    }
   ],
   "source": [
    "df.head()"
   ]
  },
  {
   "cell_type": "code",
   "execution_count": 15,
   "id": "f5974b03",
   "metadata": {},
   "outputs": [
    {
     "data": {
      "text/html": [
       "<div>\n",
       "<style scoped>\n",
       "    .dataframe tbody tr th:only-of-type {\n",
       "        vertical-align: middle;\n",
       "    }\n",
       "\n",
       "    .dataframe tbody tr th {\n",
       "        vertical-align: top;\n",
       "    }\n",
       "\n",
       "    .dataframe thead th {\n",
       "        text-align: right;\n",
       "    }\n",
       "</style>\n",
       "<table border=\"1\" class=\"dataframe\">\n",
       "  <thead>\n",
       "    <tr style=\"text-align: right;\">\n",
       "      <th></th>\n",
       "      <th>id</th>\n",
       "      <th>gender</th>\n",
       "      <th>age</th>\n",
       "      <th>hypertension</th>\n",
       "      <th>heart_disease</th>\n",
       "      <th>ever_married</th>\n",
       "      <th>work_type</th>\n",
       "      <th>Residence_type</th>\n",
       "      <th>avg_glucose_level</th>\n",
       "      <th>bmi</th>\n",
       "      <th>smoking_status</th>\n",
       "      <th>stroke</th>\n",
       "    </tr>\n",
       "  </thead>\n",
       "  <tbody>\n",
       "    <tr>\n",
       "      <th>5105</th>\n",
       "      <td>18234</td>\n",
       "      <td>Female</td>\n",
       "      <td>80.0</td>\n",
       "      <td>1</td>\n",
       "      <td>0</td>\n",
       "      <td>Yes</td>\n",
       "      <td>Private</td>\n",
       "      <td>Urban</td>\n",
       "      <td>83.75</td>\n",
       "      <td>NaN</td>\n",
       "      <td>never smoked</td>\n",
       "      <td>0</td>\n",
       "    </tr>\n",
       "    <tr>\n",
       "      <th>5106</th>\n",
       "      <td>44873</td>\n",
       "      <td>Female</td>\n",
       "      <td>81.0</td>\n",
       "      <td>0</td>\n",
       "      <td>0</td>\n",
       "      <td>Yes</td>\n",
       "      <td>Self-employed</td>\n",
       "      <td>Urban</td>\n",
       "      <td>125.20</td>\n",
       "      <td>40.0</td>\n",
       "      <td>never smoked</td>\n",
       "      <td>0</td>\n",
       "    </tr>\n",
       "    <tr>\n",
       "      <th>5107</th>\n",
       "      <td>19723</td>\n",
       "      <td>Female</td>\n",
       "      <td>35.0</td>\n",
       "      <td>0</td>\n",
       "      <td>0</td>\n",
       "      <td>Yes</td>\n",
       "      <td>Self-employed</td>\n",
       "      <td>Rural</td>\n",
       "      <td>82.99</td>\n",
       "      <td>30.6</td>\n",
       "      <td>never smoked</td>\n",
       "      <td>0</td>\n",
       "    </tr>\n",
       "    <tr>\n",
       "      <th>5108</th>\n",
       "      <td>37544</td>\n",
       "      <td>Male</td>\n",
       "      <td>51.0</td>\n",
       "      <td>0</td>\n",
       "      <td>0</td>\n",
       "      <td>Yes</td>\n",
       "      <td>Private</td>\n",
       "      <td>Rural</td>\n",
       "      <td>166.29</td>\n",
       "      <td>25.6</td>\n",
       "      <td>formerly smoked</td>\n",
       "      <td>0</td>\n",
       "    </tr>\n",
       "    <tr>\n",
       "      <th>5109</th>\n",
       "      <td>44679</td>\n",
       "      <td>Female</td>\n",
       "      <td>44.0</td>\n",
       "      <td>0</td>\n",
       "      <td>0</td>\n",
       "      <td>Yes</td>\n",
       "      <td>Govt_job</td>\n",
       "      <td>Urban</td>\n",
       "      <td>85.28</td>\n",
       "      <td>26.2</td>\n",
       "      <td>Unknown</td>\n",
       "      <td>0</td>\n",
       "    </tr>\n",
       "  </tbody>\n",
       "</table>\n",
       "</div>"
      ],
      "text/plain": [
       "         id  gender   age  hypertension  heart_disease ever_married  \\\n",
       "5105  18234  Female  80.0             1              0          Yes   \n",
       "5106  44873  Female  81.0             0              0          Yes   \n",
       "5107  19723  Female  35.0             0              0          Yes   \n",
       "5108  37544    Male  51.0             0              0          Yes   \n",
       "5109  44679  Female  44.0             0              0          Yes   \n",
       "\n",
       "          work_type Residence_type  avg_glucose_level   bmi   smoking_status  \\\n",
       "5105        Private          Urban              83.75   NaN     never smoked   \n",
       "5106  Self-employed          Urban             125.20  40.0     never smoked   \n",
       "5107  Self-employed          Rural              82.99  30.6     never smoked   \n",
       "5108        Private          Rural             166.29  25.6  formerly smoked   \n",
       "5109       Govt_job          Urban              85.28  26.2          Unknown   \n",
       "\n",
       "      stroke  \n",
       "5105       0  \n",
       "5106       0  \n",
       "5107       0  \n",
       "5108       0  \n",
       "5109       0  "
      ]
     },
     "execution_count": 15,
     "metadata": {},
     "output_type": "execute_result"
    }
   ],
   "source": [
    "df.tail()"
   ]
  },
  {
   "cell_type": "code",
   "execution_count": 16,
   "id": "20927ddf",
   "metadata": {},
   "outputs": [
    {
     "name": "stdout",
     "output_type": "stream",
     "text": [
      "<class 'pandas.core.frame.DataFrame'>\n",
      "RangeIndex: 5110 entries, 0 to 5109\n",
      "Data columns (total 12 columns):\n",
      " #   Column             Non-Null Count  Dtype  \n",
      "---  ------             --------------  -----  \n",
      " 0   id                 5110 non-null   int64  \n",
      " 1   gender             5110 non-null   object \n",
      " 2   age                5110 non-null   float64\n",
      " 3   hypertension       5110 non-null   int64  \n",
      " 4   heart_disease      5110 non-null   int64  \n",
      " 5   ever_married       5110 non-null   object \n",
      " 6   work_type          5110 non-null   object \n",
      " 7   Residence_type     5110 non-null   object \n",
      " 8   avg_glucose_level  5110 non-null   float64\n",
      " 9   bmi                4909 non-null   float64\n",
      " 10  smoking_status     5110 non-null   object \n",
      " 11  stroke             5110 non-null   int64  \n",
      "dtypes: float64(3), int64(4), object(5)\n",
      "memory usage: 479.2+ KB\n"
     ]
    }
   ],
   "source": [
    "df.info()"
   ]
  },
  {
   "cell_type": "code",
   "execution_count": 17,
   "id": "fce42324",
   "metadata": {},
   "outputs": [
    {
     "data": {
      "text/plain": [
       "stroke\n",
       "0    4861\n",
       "1     249\n",
       "Name: count, dtype: int64"
      ]
     },
     "execution_count": 17,
     "metadata": {},
     "output_type": "execute_result"
    }
   ],
   "source": [
    "df[\"stroke\"].value_counts()"
   ]
  },
  {
   "cell_type": "code",
   "execution_count": 19,
   "id": "8df4599a",
   "metadata": {
    "scrolled": true
   },
   "outputs": [],
   "source": [
    "df_new = df.dropna()"
   ]
  },
  {
   "cell_type": "code",
   "execution_count": 20,
   "id": "70c87436",
   "metadata": {},
   "outputs": [
    {
     "name": "stdout",
     "output_type": "stream",
     "text": [
      "<class 'pandas.core.frame.DataFrame'>\n",
      "Index: 4909 entries, 0 to 5109\n",
      "Data columns (total 12 columns):\n",
      " #   Column             Non-Null Count  Dtype  \n",
      "---  ------             --------------  -----  \n",
      " 0   id                 4909 non-null   int64  \n",
      " 1   gender             4909 non-null   object \n",
      " 2   age                4909 non-null   float64\n",
      " 3   hypertension       4909 non-null   int64  \n",
      " 4   heart_disease      4909 non-null   int64  \n",
      " 5   ever_married       4909 non-null   object \n",
      " 6   work_type          4909 non-null   object \n",
      " 7   Residence_type     4909 non-null   object \n",
      " 8   avg_glucose_level  4909 non-null   float64\n",
      " 9   bmi                4909 non-null   float64\n",
      " 10  smoking_status     4909 non-null   object \n",
      " 11  stroke             4909 non-null   int64  \n",
      "dtypes: float64(3), int64(4), object(5)\n",
      "memory usage: 498.6+ KB\n"
     ]
    }
   ],
   "source": [
    "df_new.info()"
   ]
  },
  {
   "cell_type": "code",
   "execution_count": 21,
   "id": "2e166b61",
   "metadata": {},
   "outputs": [
    {
     "data": {
      "text/plain": [
       "stroke\n",
       "0    4700\n",
       "1     209\n",
       "Name: count, dtype: int64"
      ]
     },
     "execution_count": 21,
     "metadata": {},
     "output_type": "execute_result"
    }
   ],
   "source": [
    "df_new[\"stroke\"].value_counts()"
   ]
  },
  {
   "cell_type": "code",
   "execution_count": 27,
   "id": "73761c31",
   "metadata": {},
   "outputs": [],
   "source": [
    "X = df_new.drop(\"stroke\", axis = 1)\n",
    "y = df_new[\"stroke\"]"
   ]
  },
  {
   "cell_type": "code",
   "execution_count": 31,
   "id": "724d4885",
   "metadata": {},
   "outputs": [
    {
     "data": {
      "text/plain": [
       "(         id  gender   age  hypertension  heart_disease ever_married  \\\n",
       " 0      9046    Male  67.0             0              1          Yes   \n",
       " 2     31112    Male  80.0             0              1          Yes   \n",
       " 3     60182  Female  49.0             0              0          Yes   \n",
       " 4      1665  Female  79.0             1              0          Yes   \n",
       " 5     56669    Male  81.0             0              0          Yes   \n",
       " ...     ...     ...   ...           ...            ...          ...   \n",
       " 5104  14180  Female  13.0             0              0           No   \n",
       " 5106  44873  Female  81.0             0              0          Yes   \n",
       " 5107  19723  Female  35.0             0              0          Yes   \n",
       " 5108  37544    Male  51.0             0              0          Yes   \n",
       " 5109  44679  Female  44.0             0              0          Yes   \n",
       " \n",
       "           work_type Residence_type  avg_glucose_level   bmi   smoking_status  \n",
       " 0           Private          Urban             228.69  36.6  formerly smoked  \n",
       " 2           Private          Rural             105.92  32.5     never smoked  \n",
       " 3           Private          Urban             171.23  34.4           smokes  \n",
       " 4     Self-employed          Rural             174.12  24.0     never smoked  \n",
       " 5           Private          Urban             186.21  29.0  formerly smoked  \n",
       " ...             ...            ...                ...   ...              ...  \n",
       " 5104       children          Rural             103.08  18.6          Unknown  \n",
       " 5106  Self-employed          Urban             125.20  40.0     never smoked  \n",
       " 5107  Self-employed          Rural              82.99  30.6     never smoked  \n",
       " 5108        Private          Rural             166.29  25.6  formerly smoked  \n",
       " 5109       Govt_job          Urban              85.28  26.2          Unknown  \n",
       " \n",
       " [4909 rows x 11 columns],\n",
       " 0       1\n",
       " 2       1\n",
       " 3       1\n",
       " 4       1\n",
       " 5       1\n",
       "        ..\n",
       " 5104    0\n",
       " 5106    0\n",
       " 5107    0\n",
       " 5108    0\n",
       " 5109    0\n",
       " Name: stroke, Length: 4909, dtype: int64)"
      ]
     },
     "execution_count": 31,
     "metadata": {},
     "output_type": "execute_result"
    }
   ],
   "source": [
    "X, y"
   ]
  },
  {
   "cell_type": "code",
   "execution_count": 41,
   "id": "6c31807f",
   "metadata": {},
   "outputs": [],
   "source": [
    "from sklearn.model_selection import train_test_split\n",
    "X_train, X_test, y_train, y_test = train_test_split(X,  y,  test_size = 0.1, random_state = 42)"
   ]
  },
  {
   "cell_type": "code",
   "execution_count": 45,
   "id": "4d5629e6",
   "metadata": {},
   "outputs": [
    {
     "data": {
      "text/plain": [
       "(         id  gender   age  hypertension  heart_disease ever_married  \\\n",
       " 2585  37307  Female  35.0             0              0          Yes   \n",
       " 3905   2544    Male  78.0             0              0          Yes   \n",
       " 667   62999    Male  10.0             0              0           No   \n",
       " 2424  62629    Male  37.0             1              0          Yes   \n",
       " 5068  49598    Male  80.0             0              0          Yes   \n",
       " ...     ...     ...   ...           ...            ...          ...   \n",
       " 4613  45530  Female  19.0             0              0           No   \n",
       " 511   27832  Female  51.0             0              0          Yes   \n",
       " 3247  64498  Female  53.0             0              0          Yes   \n",
       " 3946   8041  Female  11.0             0              0           No   \n",
       " 916   67864    Male  63.0             0              0          Yes   \n",
       " \n",
       "           work_type Residence_type  avg_glucose_level   bmi   smoking_status  \n",
       " 2585        Private          Urban              65.48  50.5     never smoked  \n",
       " 3905        Private          Urban             208.85  24.4  formerly smoked  \n",
       " 667        children          Rural              59.49  18.3          Unknown  \n",
       " 2424        Private          Urban             165.99  32.3     never smoked  \n",
       " 5068  Self-employed          Urban             120.03  24.3  formerly smoked  \n",
       " ...             ...            ...                ...   ...              ...  \n",
       " 4613        Private          Urban              89.30  22.1     never smoked  \n",
       " 511         Private          Rural              82.93  29.7           smokes  \n",
       " 3247        Private          Rural              90.65  22.1  formerly smoked  \n",
       " 3946       children          Rural              93.51  20.8          Unknown  \n",
       " 916         Private          Rural              57.82  28.8  formerly smoked  \n",
       " \n",
       " [4418 rows x 11 columns],\n",
       "          id  gender   age  hypertension  heart_disease ever_married  \\\n",
       " 4336  53802    Male  80.0             0              1          Yes   \n",
       " 3709   1454  Female  42.0             0              0           No   \n",
       " 964   59336    Male  66.0             1              0          Yes   \n",
       " 2647  66264    Male  29.0             0              0          Yes   \n",
       " 3262  14376    Male  47.0             0              0          Yes   \n",
       " ...     ...     ...   ...           ...            ...          ...   \n",
       " 5071  52652    Male  81.0             0              0          Yes   \n",
       " 3468  37209    Male  17.0             0              0           No   \n",
       " 87    71796  Female  70.0             0              1          Yes   \n",
       " 2295  32166    Male  47.0             1              0          Yes   \n",
       " 1112  40824    Male  47.0             0              0          Yes   \n",
       " \n",
       "          work_type Residence_type  avg_glucose_level   bmi   smoking_status  \n",
       " 4336       Private          Rural             125.32  32.9          Unknown  \n",
       " 3709       Private          Urban              84.03  31.4     never smoked  \n",
       " 964        Private          Rural              74.90  32.1     never smoked  \n",
       " 2647      Govt_job          Urban             102.40  26.9           smokes  \n",
       " 3262       Private          Rural              88.49  22.2           smokes  \n",
       " ...            ...            ...                ...   ...              ...  \n",
       " 5071       Private          Rural             135.32  35.8          Unknown  \n",
       " 3468  Never_worked          Rural             124.38  31.2     never smoked  \n",
       " 87         Private          Rural              59.35  32.3  formerly smoked  \n",
       " 2295       Private          Urban              75.64  24.4     never smoked  \n",
       " 1112       Private          Rural             142.02  30.0          Unknown  \n",
       " \n",
       " [491 rows x 11 columns],\n",
       " 2585    0\n",
       " 3905    0\n",
       " 667     0\n",
       " 2424    0\n",
       " 5068    0\n",
       "        ..\n",
       " 4613    0\n",
       " 511     0\n",
       " 3247    0\n",
       " 3946    0\n",
       " 916     0\n",
       " Name: stroke, Length: 4418, dtype: int64,\n",
       " 4336    0\n",
       " 3709    0\n",
       " 964     0\n",
       " 2647    0\n",
       " 3262    0\n",
       "        ..\n",
       " 5071    0\n",
       " 3468    0\n",
       " 87      1\n",
       " 2295    0\n",
       " 1112    0\n",
       " Name: stroke, Length: 491, dtype: int64)"
      ]
     },
     "execution_count": 45,
     "metadata": {},
     "output_type": "execute_result"
    }
   ],
   "source": [
    "X_train, X_test, y_train, y_test "
   ]
  },
  {
   "cell_type": "raw",
   "id": "9bd9e544",
   "metadata": {},
   "source": [
    "len(X_train)"
   ]
  },
  {
   "cell_type": "code",
   "execution_count": 53,
   "id": "209bb93e",
   "metadata": {},
   "outputs": [],
   "source": [
    "from sklearn.model_selection import train_test_split\n",
    "X_train, X_test, y_train, y_test = train_test_split(X, y , test_size = 0.2, random_state = 42)"
   ]
  },
  {
   "cell_type": "code",
   "execution_count": 54,
   "id": "54571e91",
   "metadata": {},
   "outputs": [
    {
     "data": {
      "text/plain": [
       "(         id  gender   age  hypertension  heart_disease ever_married  \\\n",
       " 3565  68302  Female  40.0             0              0          Yes   \n",
       " 898   62716  Female  59.0             0              0          Yes   \n",
       " 2707  46498  Female  57.0             0              0          Yes   \n",
       " 4198   4148    Male  81.0             0              0          Yes   \n",
       " 2746  35315    Male  65.0             0              0          Yes   \n",
       " ...     ...     ...   ...           ...            ...          ...   \n",
       " 4613  45530  Female  19.0             0              0           No   \n",
       " 511   27832  Female  51.0             0              0          Yes   \n",
       " 3247  64498  Female  53.0             0              0          Yes   \n",
       " 3946   8041  Female  11.0             0              0           No   \n",
       " 916   67864    Male  63.0             0              0          Yes   \n",
       " \n",
       "           work_type Residence_type  avg_glucose_level   bmi   smoking_status  \n",
       " 3565        Private          Urban              65.77  31.2     never smoked  \n",
       " 898   Self-employed          Urban              81.64  32.8          Unknown  \n",
       " 2707        Private          Urban             217.40  36.6     never smoked  \n",
       " 4198  Self-employed          Urban              71.18  23.9  formerly smoked  \n",
       " 2746  Self-employed          Urban              95.88  28.5     never smoked  \n",
       " ...             ...            ...                ...   ...              ...  \n",
       " 4613        Private          Urban              89.30  22.1     never smoked  \n",
       " 511         Private          Rural              82.93  29.7           smokes  \n",
       " 3247        Private          Rural              90.65  22.1  formerly smoked  \n",
       " 3946       children          Rural              93.51  20.8          Unknown  \n",
       " 916         Private          Rural              57.82  28.8  formerly smoked  \n",
       " \n",
       " [3927 rows x 11 columns],\n",
       "          id  gender   age  hypertension  heart_disease ever_married  \\\n",
       " 4336  53802    Male  80.0             0              1          Yes   \n",
       " 3709   1454  Female  42.0             0              0           No   \n",
       " 964   59336    Male  66.0             1              0          Yes   \n",
       " 2647  66264    Male  29.0             0              0          Yes   \n",
       " 3262  14376    Male  47.0             0              0          Yes   \n",
       " ...     ...     ...   ...           ...            ...          ...   \n",
       " 1022  60047    Male  22.0             0              0           No   \n",
       " 205   51314  Female  78.0             0              0          Yes   \n",
       " 3838  53759    Male  56.0             0              0          Yes   \n",
       " 5010  58635  Female  72.0             0              0          Yes   \n",
       " 1559  37759  Female  53.0             0              0          Yes   \n",
       " \n",
       "           work_type Residence_type  avg_glucose_level   bmi   smoking_status  \n",
       " 4336        Private          Rural             125.32  32.9          Unknown  \n",
       " 3709        Private          Urban              84.03  31.4     never smoked  \n",
       " 964         Private          Rural              74.90  32.1     never smoked  \n",
       " 2647       Govt_job          Urban             102.40  26.9           smokes  \n",
       " 3262        Private          Rural              88.49  22.2           smokes  \n",
       " ...             ...            ...                ...   ...              ...  \n",
       " 1022        Private          Rural              58.38  36.0     never smoked  \n",
       " 205         Private          Urban             106.74  33.0  formerly smoked  \n",
       " 3838  Self-employed          Urban             122.73  37.5  formerly smoked  \n",
       " 5010  Self-employed          Urban              74.17  35.5  formerly smoked  \n",
       " 1559        Private          Rural              72.63  66.8          Unknown  \n",
       " \n",
       " [982 rows x 11 columns],\n",
       " 3565    0\n",
       " 898     0\n",
       " 2707    0\n",
       " 4198    0\n",
       " 2746    0\n",
       "        ..\n",
       " 4613    0\n",
       " 511     0\n",
       " 3247    0\n",
       " 3946    0\n",
       " 916     0\n",
       " Name: stroke, Length: 3927, dtype: int64,\n",
       " 4336    0\n",
       " 3709    0\n",
       " 964     0\n",
       " 2647    0\n",
       " 3262    0\n",
       "        ..\n",
       " 1022    0\n",
       " 205     1\n",
       " 3838    0\n",
       " 5010    0\n",
       " 1559    0\n",
       " Name: stroke, Length: 982, dtype: int64)"
      ]
     },
     "execution_count": 54,
     "metadata": {},
     "output_type": "execute_result"
    }
   ],
   "source": [
    "X_train, X_test, y_train, y_test"
   ]
  },
  {
   "cell_type": "code",
   "execution_count": 59,
   "id": "373fa00d",
   "metadata": {},
   "outputs": [],
   "source": [
    "model = tf.keras.Sequential([\n",
    "    tf.keras.layers.Dense(10, activation = \"relu\"),\n",
    "    tf.keras.layers.Dense(20, activation = \"relu\"),\n",
    "    tf.keras.layers.Dense(1, activation = \"sigmoid\")\n",
    "    \n",
    "])"
   ]
  },
  {
   "cell_type": "code",
   "execution_count": null,
   "id": "d030e034",
   "metadata": {},
   "outputs": [],
   "source": [
    "model.compile(loss = )"
   ]
  },
  {
   "cell_type": "code",
   "execution_count": null,
   "id": "203bfb0c",
   "metadata": {},
   "outputs": [],
   "source": []
  }
 ],
 "metadata": {
  "kernelspec": {
   "display_name": "Python [conda env:practice]",
   "language": "python",
   "name": "conda-env-practice-py"
  },
  "language_info": {
   "codemirror_mode": {
    "name": "ipython",
    "version": 3
   },
   "file_extension": ".py",
   "mimetype": "text/x-python",
   "name": "python",
   "nbconvert_exporter": "python",
   "pygments_lexer": "ipython3",
   "version": "3.8.18"
  }
 },
 "nbformat": 4,
 "nbformat_minor": 5
}
